{
 "cells": [
  {
   "cell_type": "code",
   "execution_count": 1,
   "id": "1b89b1df",
   "metadata": {},
   "outputs": [],
   "source": [
    "import moviepy.editor\n",
    "import playsound\n",
    "from playsound import playsound\n",
    "video = moviepy.editor.VideoFileClip('sample.mp4')\n"
   ]
  },
  {
   "cell_type": "code",
   "execution_count": 20,
   "id": "4407668e",
   "metadata": {},
   "outputs": [
    {
     "name": "stderr",
     "output_type": "stream",
     "text": [
      "chunk:   0%|          | 5/1375 [00:00<00:27, 49.99it/s, now=None]"
     ]
    },
    {
     "name": "stdout",
     "output_type": "stream",
     "text": [
      "MoviePy - Writing audio in extracted_audio.mp3\n"
     ]
    },
    {
     "name": "stderr",
     "output_type": "stream",
     "text": [
      "                                                                     \r"
     ]
    },
    {
     "name": "stdout",
     "output_type": "stream",
     "text": [
      "MoviePy - Done.\n"
     ]
    }
   ],
   "source": [
    "# Extracting Audio from video\n",
    "\n",
    "\n",
    "audio = video.audio\n",
    "audio.write_audiofile('extracted_audio.mp3')"
   ]
  },
  {
   "cell_type": "code",
   "execution_count": 27,
   "id": "2d45cb03",
   "metadata": {},
   "outputs": [],
   "source": [
    "playsound('extracted_audio.mp3')\n",
    "print(\"Sound Playing\")"
   ]
  },
  {
   "cell_type": "code",
   "execution_count": 2,
   "id": "ba961387",
   "metadata": {},
   "outputs": [],
   "source": [
    "# Let Wrap up the code and made a function with it \n",
    "\n",
    "\n",
    "def extract_audio(videofile,filename):\n",
    "    # Intialise video object\n",
    "    video = moviepy.editor.VideoFileClip(videofile)\n",
    "    # Converting to audio \n",
    "    audio = video.audio \n",
    "    audio.write_audiofile(filename+\".mp3\")\n",
    "    return filename + \".mp3\"\n",
    "\n",
    "def playsoundtrack(videofile,filename):\n",
    "    audio=extract_audio(videofile,filename)\n",
    "    print(\"Playing Sound..\")\n",
    "    playsound(audio)\n",
    "    "
   ]
  },
  {
   "cell_type": "code",
   "execution_count": null,
   "id": "24821728",
   "metadata": {},
   "outputs": [
    {
     "name": "stderr",
     "output_type": "stream",
     "text": [
      "chunk:   1%|          | 64/7852 [00:00<00:12, 613.39it/s, now=None]"
     ]
    },
    {
     "name": "stdout",
     "output_type": "stream",
     "text": [
      "MoviePy - Writing audio in fil.mp3\n"
     ]
    },
    {
     "name": "stderr",
     "output_type": "stream",
     "text": [
      "                                                                     \r"
     ]
    },
    {
     "name": "stdout",
     "output_type": "stream",
     "text": [
      "MoviePy - Done.\n",
      "Playing Sound\n"
     ]
    }
   ],
   "source": [
    "#  Let try our function with Url file\n",
    "weburl=\"https://r2---sn-ci5gup-cvhs.googlevideo.com/videoplayback?expire=1632506607&ei=j75NYYfEJM-nx_APxO6gwAs&ip=95.160.19.246&id=o-AMar-xDTgjqu22hoLvPgO9fXkdlrZRZB3Xlok92PjXie&itag=18&source=youtube&requiressl=yes&vprv=1&mime=video%2Fmp4&ns=u6NIN1KidFgQTa1hOAA806UG&gir=yes&clen=17426999&ratebypass=yes&dur=356.054&lmt=1630134130308759&fexp=24001373,24007246&c=WEB&txp=5530434&n=QGWFCZnbrxTHQu1&sparams=expire%2Cei%2Cip%2Cid%2Citag%2Csource%2Crequiressl%2Cvprv%2Cmime%2Cns%2Cgir%2Cclen%2Cratebypass%2Cdur%2Clmt&sig=AOq0QJ8wRgIhAOBeJYM_GlKGyMYygnFrZlMExqA3j9G6eyy5cUk9REwvAiEAjiW-Ue_J_2j53-QJKcdNDbW3LPr-AS1VXuID-UwyvcM%3D&rm=sn-8xjug5oxu-bqol7l,sn-f5f67l&req_id=4580929ef513a3ee&redirect_counter=2&cms_redirect=yes&ipbypass=yes&mh=7C&mip=171.61.35.63&mm=29&mn=sn-ci5gup-cvhs&ms=rdu&mt=1632484371&mv=m&mvi=2&pl=24&lsparams=ipbypass,mh,mip,mm,mn,ms,mv,mvi,pl&lsig=AG3C_xAwRQIhAIT-KM0WfIvoF1r3WRXABFxOblCEunsTh57OkyEY1tBYAiARIdeyZlEsZNLkVjUOp34QNWdJZGeu3w3Mpn8K2EfGhQ%3D%3D\"\n",
    "    \n",
    "playsoundtrack(weburl,'fil')"
   ]
  },
  {
   "cell_type": "code",
   "execution_count": 3,
   "id": "d73886f8",
   "metadata": {},
   "outputs": [],
   "source": [
    "weburl=\"https://r2---sn-ci5gup-cvhs.googlevideo.com/videoplayback?expire=1632506607&ei=j75NYYfEJM-nx_APxO6gwAs&ip=95.160.19.246&id=o-AMar-xDTgjqu22hoLvPgO9fXkdlrZRZB3Xlok92PjXie&itag=18&source=youtube&requiressl=yes&vprv=1&mime=video%2Fmp4&ns=u6NIN1KidFgQTa1hOAA806UG&gir=yes&clen=17426999&ratebypass=yes&dur=356.054&lmt=1630134130308759&fexp=24001373,24007246&c=WEB&txp=5530434&n=QGWFCZnbrxTHQu1&sparams=expire%2Cei%2Cip%2Cid%2Citag%2Csource%2Crequiressl%2Cvprv%2Cmime%2Cns%2Cgir%2Cclen%2Cratebypass%2Cdur%2Clmt&sig=AOq0QJ8wRgIhAOBeJYM_GlKGyMYygnFrZlMExqA3j9G6eyy5cUk9REwvAiEAjiW-Ue_J_2j53-QJKcdNDbW3LPr-AS1VXuID-UwyvcM%3D&rm=sn-8xjug5oxu-bqol7l,sn-f5f67l&req_id=4580929ef513a3ee&redirect_counter=2&cms_redirect=yes&ipbypass=yes&mh=7C&mip=171.61.35.63&mm=29&mn=sn-ci5gup-cvhs&ms=rdu&mt=1632484371&mv=m&mvi=2&pl=24&lsparams=ipbypass,mh,mip,mm,mn,ms,mv,mvi,pl&lsig=AG3C_xAwRQIhAIT-KM0WfIvoF1r3WRXABFxOblCEunsTh57OkyEY1tBYAiARIdeyZlEsZNLkVjUOp34QNWdJZGeu3w3Mpn8K2EfGhQ%3D%3D\"\n"
   ]
  },
  {
   "cell_type": "code",
   "execution_count": null,
   "id": "d3ca8b6e",
   "metadata": {},
   "outputs": [
    {
     "name": "stdout",
     "output_type": "stream",
     "text": [
      " * Serving Flask app '__main__' (lazy loading)\n",
      " * Environment: production\n",
      "\u001b[31m   WARNING: This is a development server. Do not use it in a production deployment.\u001b[0m\n",
      "\u001b[2m   Use a production WSGI server instead.\u001b[0m\n",
      " * Debug mode: off\n"
     ]
    },
    {
     "name": "stderr",
     "output_type": "stream",
     "text": [
      " * Running on http://127.0.0.1:5000/ (Press CTRL+C to quit)\n",
      "chunk:   1%|          | 93/7852 [00:00<00:08, 927.63it/s, now=None]"
     ]
    },
    {
     "name": "stdout",
     "output_type": "stream",
     "text": [
      "MoviePy - Writing audio in new2.mp3\n"
     ]
    },
    {
     "name": "stderr",
     "output_type": "stream",
     "text": [
      "                                                                      \r"
     ]
    },
    {
     "name": "stdout",
     "output_type": "stream",
     "text": [
      "MoviePy - Done.\n",
      "Playing Sound..\n"
     ]
    }
   ],
   "source": [
    "# Making app to \n",
    "import flask \n",
    "from flask import Flask,request\n",
    "\n",
    "app = Flask(__name__)\n",
    "\n",
    "@app.route(\"/\")\n",
    "def videotoaudioplay():\n",
    "    url = weburl\n",
    "    #url = request.args(url)\n",
    "    return \"Playing Sound\"+playsoundtrack(url,'new2')\n",
    "\n",
    "\n",
    "if __name__ == \"__main__\":\n",
    "    app.run()"
   ]
  }
 ],
 "metadata": {
  "kernelspec": {
   "display_name": "Python 3",
   "language": "python",
   "name": "python3"
  },
  "language_info": {
   "codemirror_mode": {
    "name": "ipython",
    "version": 3
   },
   "file_extension": ".py",
   "mimetype": "text/x-python",
   "name": "python",
   "nbconvert_exporter": "python",
   "pygments_lexer": "ipython3",
   "version": "3.8.10"
  }
 },
 "nbformat": 4,
 "nbformat_minor": 5
}
